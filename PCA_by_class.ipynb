{
 "cells": [
  {
   "cell_type": "code",
   "execution_count": 23,
   "metadata": {},
   "outputs": [],
   "source": [
    "import matplotlib\n",
    "import matplotlib.pyplot as plt\n",
    "import numpy as np\n",
    "import scipy.io as sio\n",
    "import sys\n",
    "from sklearn.utils import shuffle\n",
    "from sklearn import preprocessing\n",
    "from sklearn.metrics import mean_squared_error\n",
    "from sklearn.decomposition import PCA\n",
    "from sklearn.metrics import confusion_matrix\n",
    "# function to plot confusion matrix\n",
    "def plot_confusion_matrix(cm, title='Confusion Matrix', cmap=plt.cm.Blues):\n",
    "    plt.imshow(cm, interpolation='nearest', cmap=cmap)\n",
    "    plt.title(title)\n",
    "    plt.colorbar()\n",
    "    xlocations = np.array(range(len(labels)))\n",
    "    #plt.xticks(xlocations, labels, rotation=90)\n",
    "    #plt.yticks(xlocations, labels)\n",
    "    plt.ylabel('True label')\n",
    "    plt.xlabel('Predicted label')\n",
    "#-------------------data preprocessing----------------------------#\n",
    "data = sio.loadmat('face.mat')\n",
    "face_data=data['X']\n",
    "c=data['l']\n",
    "num_pix = 2576\n",
    "num_img = face_data.shape[1] # num_img=520\n",
    "num_pix = face_data.shape[0]\n",
    "n_components = 9 # in total 9 principal components\n",
    "img_idx_train = []\n",
    "img_idx_test = []\n",
    "for i in range(num_img):\n",
    "    if i%10>8: #last 1 feed into test set\n",
    "        img_idx_test.append(i)\n",
    "    else:\n",
    "        img_idx_train.append(i)\n",
    "#training set\n",
    "img_train = np.delete(face_data, img_idx_test, 1) # 2576*img_train.shape[1]\n",
    "#test set\n",
    "img_test = np.delete(face_data, img_idx_train, 1) # 2576*img_test.shape[1]"
   ]
  },
  {
   "cell_type": "code",
   "execution_count": 2,
   "metadata": {},
   "outputs": [],
   "source": [
    "num_class = 52\n",
    "#average faces per class\n",
    "faces_per_class = int(img_train.shape[1]/num_class)\n",
    "class_mean=np.zeros((num_pix,num_class))\n",
    "for i in range(52):\n",
    "    class_mean[:,i]=face_data[:,i*10:i*10+9].mean(axis=1)\n",
    "#partition class mean into 52 sub matrices\n",
    "class_mean_split = np.split(class_mean, 52, axis = 1)    \n",
    "#partition img_train into 52 submatrices\n",
    "img_train_split = np.split(img_train, 52, axis = 1)\n",
    "#normalisation \n",
    "for i in range(num_class):\n",
    "    img_train_split[i] =    img_train_split[i] - np.squeeze(class_mean_split[i])[:,None]\n",
    "# pca = PCA(n_components=n_components, svd_solver='randomized',\n",
    "#           whiten=False)\n",
    "#eigenfaces is a list of numpy arrays\n",
    "eigenfaces = []\n",
    "for i in range(num_class):\n",
    "    S=np.divide(np.matmul(img_train_split[i].T,img_train_split[i]),9)\n",
    "    eigval, eigvec = np.linalg.eig(S)\n",
    "    eigval.tolist()\n",
    "#-------------------pca using sklearn-------------------------------#\n",
    "#     pca.fit(img_train_split[i])\n",
    "#     eigvec = pca.components_\n",
    "#     eigval = pca.singular_values_\n",
    "#     eigval.tolist()\n",
    "    #Sorted eigenValues and eigenVectors\n",
    "    idx = eigval.argsort()[::-1] \n",
    "    eigval = eigval[idx]\n",
    "    eigvec = eigvec[:,idx]\n",
    "    eigvec_pseudo = np.matmul(img_train_split[i],eigvec) # 2576*9 \n",
    "    eigvec_pseudo = preprocessing.normalize(eigvec_pseudo, norm='l2', axis=0)\n",
    "    eigenfaces.append(eigvec_pseudo)"
   ]
  },
  {
   "cell_type": "code",
   "execution_count": 3,
   "metadata": {},
   "outputs": [],
   "source": [
    "#--------------------example plot DO NOT USE ----------------------------#\n",
    "# img2test = 38\n",
    "# eigen2use = 23\n",
    "# face_proj = np.matmul((img_test[:,img2test] - class_mean[:,eigen2use]).T, eigenfaces[eigen2use]) #img_train.shape[1]*M\n",
    "# face_recon = np.zeros((1,2576))\n",
    "# for i in range(n_components):\n",
    "#     face_recon = np.add(face_proj[i] * eigenfaces[eigen2use][:,i], face_recon)\n",
    "# face_recon += class_mean[:,eigen2use]\n",
    "# #conparision between original face and reconstruction\n",
    "# face_recon2_plt = np.reshape(face_recon ,(46,56)).T\n",
    "# plt.subplot(1, 2, 1)\n",
    "# plt.imshow(face_recon2_plt, cmap = 'gist_gray')\n",
    "# img2plt = np.reshape(img_test[:,img2test] ,(46,56)).T\n",
    "# plt.subplot(1, 2, 2)\n",
    "# plt.imshow(img2plt, cmap = 'gist_gray')\n",
    "# error = np.linalg.norm(face_recon - img_test[:,img2test])\n",
    "# print(error)\n",
    "# plt.plot(eigval)\n",
    "# temp = face_recon - img_test[:,img2test]\n",
    "# img2plt = np.reshape(temp ,(46,56)).T\n",
    "# plt.imshow(img2plt, cmap = 'gist_gray')"
   ]
  },
  {
   "cell_type": "code",
   "execution_count": 21,
   "metadata": {},
   "outputs": [
    {
     "name": "stdout",
     "output_type": "stream",
     "text": [
      "sucess rate within 52 test images: 0.884615\n"
     ]
    }
   ],
   "source": [
    "# ------------success rate with fixed M-------------#\n",
    "y_true = np.zeros(52)\n",
    "y_pred = np.zeros(52)\n",
    "accuracy = 0\n",
    "true_counter = 0\n",
    "for img2test in range(num_class):\n",
    "    idx_pred = 0\n",
    "    min_error = sys.float_info.max\n",
    "    error = 0\n",
    "    for eigen2use in range(52):\n",
    "        face_proj = np.matmul((img_test[:,img2test] - class_mean[:,eigen2use]).T, eigenfaces[eigen2use])\n",
    "        face_recon = np.zeros((2576,1)).T\n",
    "        for i in range(n_components-1):\n",
    "            face_recon = np.add(face_proj[i] * eigenfaces[eigen2use][:,i], face_recon)\n",
    "        face_recon +=  class_mean[:,eigen2use]#class_mean_split[eigen2use].T\n",
    "        face_recon = np.squeeze(face_recon.T)\n",
    "        error = np.linalg.norm(face_recon - img_test[:,img2test])\n",
    "        if error <= min_error:\n",
    "            min_error = error\n",
    "            idx_pred = eigen2use \n",
    "    y_true[img2test] = img2test\n",
    "    y_pred[img2test] = idx_pred\n",
    "    if idx_pred == img2test:\n",
    "        true_counter +=1\n",
    "        accuracy = true_counter/num_class\n",
    "\n",
    "print(\"sucess rate within 52 test images: %f\" %accuracy)"
   ]
  },
  {
   "cell_type": "code",
   "execution_count": 12,
   "metadata": {},
   "outputs": [],
   "source": [
    "# ------------success rate with various M-------------#\n",
    "y_true = np.zeros(52)\n",
    "y_pred = np.zeros(52)\n",
    "accuracy = np.zeros(9)\n",
    "for M in range (1,10):\n",
    "    true_counter = 0\n",
    "    for img2test in range(num_class):\n",
    "        idx_pred = 0\n",
    "        min_error = sys.float_info.max\n",
    "        error = 0\n",
    "        for eigen2use in range(52):\n",
    "            face_proj = np.matmul((img_test[:,img2test] - class_mean[:,eigen2use]).T, eigenfaces[eigen2use])\n",
    "            face_recon = np.zeros((2576,1)).T\n",
    "            for i in range(M):\n",
    "                face_recon = np.add(face_proj[i] * eigenfaces[eigen2use][:,i], face_recon)\n",
    "            face_recon +=  class_mean[:,eigen2use]#class_mean_split[eigen2use].T\n",
    "            face_recon = np.squeeze(face_recon.T)\n",
    "            error = np.linalg.norm(face_recon - img_test[:,img2test])\n",
    "            if error <= min_error:\n",
    "                min_error = error\n",
    "                idx_pred = eigen2use \n",
    "        y_true[img2test] = img2test\n",
    "        y_pred[img2test] = idx_pred\n",
    "        if idx_pred == img2test:\n",
    "            true_counter +=1\n",
    "            accuracy[M-1] = true_counter/num_class\n",
    "\n",
    "# print(\"sucess rate within 52 test images: %f\" %accuracy)"
   ]
  },
  {
   "cell_type": "code",
   "execution_count": 20,
   "metadata": {},
   "outputs": [
    {
     "name": "stdout",
     "output_type": "stream",
     "text": [
      "[0.82692308 0.86538462 0.86538462 0.86538462 0.86538462 0.86538462\n",
      " 0.88461538 0.88461538 0.84615385]\n"
     ]
    },
    {
     "data": {
      "image/png": "[encoded data removed]",
      "text/plain": [
       "<matplotlib.figure.Figure at 0x7f3cbd9d5e48>"
      ]
     },
     "metadata": {},
     "output_type": "display_data"
    }
   ],
   "source": [
    "#--------plot accuracy graph--------------#\n",
    "print(accuracy)\n",
    "x=np.linspace(1,9,num=9)\n",
    "plt.plot(x,accuracy)\n",
    "plt.xlabel('M')\n",
    "plt.ylabel('Accuracy')\n",
    "plt.title('Recognition accuracy against different M')\n",
    "plt.grid(b=True, which='both')\n",
    "plt.show()"
   ]
  },
  {
   "cell_type": "code",
   "execution_count": 24,
   "metadata": {},
   "outputs": [
    {
     "data": {
      "image/png": "[encoded data removed]",
      "text/plain": [
       "<matplotlib.figure.Figure at 0x7f3cbd9fc240>"
      ]
     },
     "metadata": {},
     "output_type": "display_data"
    }
   ],
   "source": [
    "#--------plot confusion matrix--------------#\n",
    "labels = list(set(y_true))\n",
    "#use sklearn\n",
    "conf_mat = confusion_matrix(y_true, y_pred, labels = labels)\n",
    "#two types of confusion matrix, one is run once, another is record 52 test faces\n",
    "plot_confusion_matrix(conf_mat)"
   ]
  },
  {
   "cell_type": "code",
   "execution_count": 6,
   "metadata": {},
   "outputs": [
    {
     "name": "stdout",
     "output_type": "stream",
     "text": [
      "predicted index: 50 ; True index 50\n"
     ]
    }
   ],
   "source": [
    "# ---------- example success and failure cases ------------#\n",
    "idx_pred = 0\n",
    "img2test = 50 #self-defined \n",
    "min_error = sys.float_info.max\n",
    "error = 0\n",
    "for eigen2use in range(52):\n",
    "    face_proj = np.matmul((img_test[:,img2test] - class_mean[:,eigen2use]).T, eigenfaces[eigen2use])\n",
    "    face_recon = np.zeros((2576,1)).T\n",
    "    for i in range(n_components):\n",
    "        face_recon = np.add(face_proj[i] * eigenfaces[eigen2use][:,i], face_recon)\n",
    "    face_recon +=  class_mean[:,eigen2use]#class_mean_split[eigen2use].T\n",
    "    face_recon = np.squeeze(face_recon.T)\n",
    "    error = np.linalg.norm(face_recon - img_test[:,img2test])\n",
    "    if error <= min_error:\n",
    "        min_error = error\n",
    "        idx_pred = eigen2use \n",
    "print(\"predicted index: %d ; True index %d\" %(idx_pred, img2test))"
   ]
  }
 ],
 "metadata": {
  "kernelspec": {
   "display_name": "Python 3",
   "language": "python",
   "name": "python3"
  },
  "language_info": {
   "codemirror_mode": {
    "name": "ipython",
    "version": 3
   },
   "file_extension": ".py",
   "mimetype": "text/x-python",
   "name": "python",
   "nbconvert_exporter": "python",
   "pygments_lexer": "ipython3",
   "version": "3.6.4"
  }
 },
 "nbformat": 4,
 "nbformat_minor": 2
}
